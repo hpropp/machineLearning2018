{
 "cells": [
  {
   "cell_type": "code",
   "execution_count": 1,
   "metadata": {},
   "outputs": [
    {
     "name": "stdout",
     "output_type": "stream",
     "text": [
      "Match!\n"
     ]
    }
   ],
   "source": [
    "'''\n",
    "You can easily tackle many basic patterns in Python using the ordinary characters. \n",
    "Ordinary characters are the simplest regular expressions. \n",
    "They match themselves exactly and do not have a special meaning in their regular expression syntax.\n",
    "\n",
    "Ordinary characters can be used to perform simple exact matches\n",
    "'''\n",
    "\n",
    "import re\n",
    "\n",
    "pattern = r\"Coding!\" # the r is a raw string literal, changes how the string literal is interpreted\n",
    "'''\n",
    "For example, \\ is just a backslash when prefixed with a r rather than being interpreted as an escape sequence.\n",
    "This is important with special characters.\n",
    "We don't actually need it here but it helps with consistency :)\n",
    "'''\n",
    "\n",
    "sequence = \"Coding!\"\n",
    "if re.match(pattern, sequence): # reutrn a match object if the text matches the pattern, if not returns none\n",
    "    print(\"Match!\")\n",
    "else: \n",
    "    print(\"Not a match!\")"
   ]
  },
  {
   "cell_type": "code",
   "execution_count": 2,
   "metadata": {},
   "outputs": [
    {
     "name": "stdout",
     "output_type": "stream",
     "text": [
      "Cookie\n",
      "Cookie\n",
      "C@ke\n",
      "Eat cake\n",
      "Cookie\n",
      "c00kie\n",
      "Eat\n",
      "cake\n",
      "Number: 5\n",
      "Number: 0\n",
      "Cookie\n",
      "Cookie\n",
      "Back\\stail\n",
      "Back tail\n"
     ]
    }
   ],
   "source": [
    "'''\n",
    "Special characters are characters which do not match themselves as seen \n",
    "but actually have a special meaning when used in a regular expression.\n",
    "The most widely used special characters are:\n",
    ". - A period. Matches any single character except newline character.\n",
    "\\w - Lowercase w. Matches any single letter, digit or underscore.\n",
    "\\W - Uppercase w. Matches any character not part of \\w (lowercase w).\n",
    "\\s - Lowercase s. Matches a single whitespace character like: space, newline, tab, return.\n",
    "\\S - Uppercase s. Matches any character not part of \\s (lowercase s).\n",
    "\\t - Lowercase t. Matches tab.\n",
    "\\n - Lowercase n. Matches newline.\n",
    "\\r - Lowercase r. Matches return.\n",
    "\\d - Lowercase d. Matches decimal digit 0-9.\n",
    "^ - Caret. Matches a pattern at the start of the string.\n",
    "$ - Matches a pattern at the end of string.\n",
    "[abc] - Matches a or b or c.\n",
    "[a-zA-Z0-9] - Matches any letter from (a to z) or (A to Z) or (0 to 9). \n",
    "Characters that are not within a range can be matched by complementing the set. \n",
    "If the first character of the set is ^, all the characters that are not in the set will be matched.\n",
    "\\A - Uppercase a. Matches only at the start of the string. Works across multiple lines as well.\n",
    "\\b - Lowercase b. Matches only the beginning or end of the word.\n",
    "\\ - Backslash. If the character following the backslash is a recognized escape character, \n",
    "then the special meaning of the term is taken. \n",
    "For example, \\n is considered as newline. \n",
    "However, if the character following the \\ is not a recognized escape character, \n",
    "then the \\ is treated like any other character and passed through.\n",
    "\n",
    "Python offers two different primitive operations based on regular expressions: \n",
    "match checks for a match only at the beginning of the string, \n",
    "while search checks for a match anywhere in the string (this is what Perl does by default).\n",
    "Note that match may differ from search even when using a regular expression beginning with '^': \n",
    "'^' matches only at the start of the string, \n",
    "or in MULTILINE mode also immediately following a newline. \n",
    "The “match” operation succeeds only if the pattern matches at the start of the string regardless of mode, \n",
    "or at the starting position given by the optional pos argument regardless of whether a newline precedes it.\n",
    "'''\n",
    "\n",
    "import re\n",
    "\n",
    "a = re.search(r'Co.k.e', 'Cookie').group()\n",
    "print(a)\n",
    "\n",
    "b = re.search(r'Co\\wk\\we', 'Cookie').group()\n",
    "print(b)\n",
    "\n",
    "c = re.search(r'C\\Wke', 'C@ke').group()\n",
    "print(c)\n",
    "\n",
    "d = re.search(r'Eat\\scake', 'Eat cake').group()\n",
    "print(d)\n",
    "\n",
    "e = re.search(r'Cook\\Se', 'Cookie').group()\n",
    "print(e)\n",
    "\n",
    "'''\n",
    "f = re.search(r'Eat\\tcake', 'Eat    cake').group()\n",
    "print(f)\n",
    "'''\n",
    "\n",
    "g = re.search(r'c\\d\\dkie', 'c00kie').group()\n",
    "print(g)\n",
    "\n",
    "h = re.search(r'^Eat', 'Eat cake').group()\n",
    "print(h)\n",
    "\n",
    "i = re.search(r'cake$', 'Eat cake').group()\n",
    "print(i)\n",
    "\n",
    "j = re.search(r'Number: [0-6]', 'Number: 5').group()\n",
    "print(j)\n",
    "\n",
    "# matches any character except 5\n",
    "k = re.search(r'Number: [^5]', 'Number: 0').group()\n",
    "print(k)\n",
    "\n",
    "l = re.search(r'\\A[A-E]ookie', 'Cookie').group()\n",
    "print(l)\n",
    "\n",
    "m = re.search(r'\\b[A-E]ookie', 'Cookie').group()\n",
    "print(m)\n",
    "\n",
    "# This checks for '\\' in the string instead of '\\t' due to the '\\' used \n",
    "n = re.search(r'Back\\\\stail', 'Back\\stail').group()\n",
    "print(n)\n",
    "\n",
    "# This treats '\\s' as an escape character because it lacks '\\' at the start of '\\s'\n",
    "o = re.search(r'Back\\stail', 'Back tail').group()\n",
    "print(o)"
   ]
  },
  {
   "cell_type": "code",
   "execution_count": 3,
   "metadata": {
    "scrolled": true
   },
   "outputs": [
    {
     "name": "stdout",
     "output_type": "stream",
     "text": [
      "Cooookie\n",
      "Caokie\n",
      "Color\n",
      "0987654321\n"
     ]
    }
   ],
   "source": [
    "'''\n",
    "It becomes quite tedious if you are looking to find long patterns in a sequence. \n",
    "Fortunately, the re module handles repetitions using the following special characters:\n",
    "+ - Checks for one or more characters to its left.\n",
    "* - Checks for zero or more characters to its left.\n",
    "? - Checks for exactly zero or one character to its left.\n",
    "'''\n",
    "\n",
    "import re\n",
    "\n",
    "a = re.search(r'Co+kie', 'Cooookie').group()\n",
    "print(a)\n",
    "\n",
    "# Checks for any occurrence of a or o or both in the given sequence\n",
    "b = re.search(r'Ca*o*kie', 'Caokie').group() # The + and * qualifiers are said to be greedy\n",
    "print(b)\n",
    "\n",
    "# Checks for exactly zero or one occurrence of a or o or both in the given sequence\n",
    "c = re.search(r'Colou?r', 'Color').group()\n",
    "print(c)\n",
    "\n",
    "'''\n",
    "But what if you want to check for exact number of sequence repetition?\n",
    "For example, checking the validity of a phone number in an application. \n",
    "re module handles this very gracefully as well using the following regular expressions:\n",
    "{x} - Repeat exactly x number of times.\n",
    "{x,} - Repeat at least x times or more.\n",
    "{x, y} - Repeat at least x times but no more than y times.\n",
    "'''\n",
    "\n",
    "d = re.search(r'\\d{9,10}', '0987654321').group()\n",
    "print(d)"
   ]
  },
  {
   "cell_type": "code",
   "execution_count": 4,
   "metadata": {},
   "outputs": [
    {
     "name": "stdout",
     "output_type": "stream",
     "text": [
      "support@datacamp.com\n",
      "support\n",
      "datacamp.com\n"
     ]
    }
   ],
   "source": [
    "'''\n",
    "The group feature of regular expression allows you to pick up parts of the matching text.\n",
    "Parts of a regular expression pattern bounded by parenthesis() are called groups. \n",
    "The parenthesis does not change what the expression matches, but rather forms groups within the matched sequence. \n",
    "You have been using the group() function all along in this tutorial's examples. \n",
    "The plain match.group() without any argument is still the whole matched text as usual.\n",
    "'''\n",
    "\n",
    "import re \n",
    "\n",
    "email_address = 'Please contact us at: support@datacamp.com'\n",
    "match = re.search(r'([\\w\\.-]+)@([\\w\\.-]+)', email_address)\n",
    "if match: # if this is true, meaning there is a match\n",
    "    print(match.group()) # The whole matched text\n",
    "    print(match.group(1)) # The username (group 1)\n",
    "    print(match.group(2)) # The host (group 2)"
   ]
  },
  {
   "cell_type": "code",
   "execution_count": 5,
   "metadata": {},
   "outputs": [
    {
     "name": "stdout",
     "output_type": "stream",
     "text": [
      "<h1>TITLE</h1>\n",
      "<h1>\n"
     ]
    }
   ],
   "source": [
    "'''\n",
    "When a special character matches as much of the search sequence (string) as possible, \n",
    "it is said to be a \"Greedy Match\". \n",
    "It is the normal behavior of a regular expression but sometimes this behavior is not desired:\n",
    "'''\n",
    "\n",
    "import re\n",
    "\n",
    "pattern = \"cookie\"\n",
    "sequence = \"Cake and cookie\"\n",
    "\n",
    "heading  = r'<h1>TITLE</h1>'\n",
    "a = re.match(r'<.*>', heading).group()\n",
    "print(a)\n",
    "\n",
    "'''\n",
    "The pattern <.*> matched the whole string, right up to the second occurrence of >.\n",
    "However, if you only wanted to match the first <h1> tag, \n",
    "you could have used the greedy qualifier *? that matches as little text as possible.\n",
    "Adding ? after the qualifier makes it perform the match in a non-greedy or minimal fashion; \n",
    "That is, as few characters as possible will be matched. \n",
    "When you run <.*>, you will only get a match with <h1>.\n",
    "'''\n",
    "\n",
    "heading2  = r'<h1>TITLE</h1>'\n",
    "b = re.match(r'<.*?>', heading2).group()\n",
    "print(b)"
   ]
  },
  {
   "cell_type": "code",
   "execution_count": 6,
   "metadata": {},
   "outputs": [
    {
     "name": "stdout",
     "output_type": "stream",
     "text": [
      "cookie\n",
      "None\n",
      "Color\n"
     ]
    }
   ],
   "source": [
    "'''\n",
    "The re library in Python provides several functions that makes it a skill worth mastering. \n",
    "You have already seen some of them, such as the re.search(), re.match(). \n",
    "Let's check out some useful functions in detail:\n",
    "    search(pattern, string, flags=0)\n",
    "With this function, you scan through the given string/sequence looking for the first location \n",
    "where the regular expression produces a match. \n",
    "It returns a corresponding match object if found, \n",
    "else returns None if no position in the string matches the pattern. \n",
    "Note that None is different from finding a zero-length match at some point in the string.\n",
    "'''\n",
    "\n",
    "import re\n",
    "\n",
    "pattern = \"cookie\"\n",
    "sequence = \"Cake and cookie\"\n",
    "\n",
    "a = re.search(pattern, sequence).group()\n",
    "print(a)\n",
    "\n",
    "'''\n",
    "    match(pattern, string, flags=0)\n",
    "Returns a corresponding match object if zero or more characters at the beginning of string match the pattern. \n",
    "Else it returns None, if the string does not match the given pattern.\n",
    "NOTE: The match() function checks for a match only at the beginning of the string (by default) \n",
    "whereas the search() function checks for a match anywhere in the string.\n",
    "'''\n",
    "\n",
    "pattern2 = \"C\"\n",
    "sequence1 = \"IceCream\"\n",
    "\n",
    "# No match since \"C\" is not at the start of \"IceCream\"\n",
    "b = re.match(pattern2, sequence1)\n",
    "print(b)\n",
    "\n",
    "sequence2 = \"Cake\"\n",
    "\n",
    "re.match(pattern2,sequence2).group()\n",
    "print(c)\n"
   ]
  },
  {
   "cell_type": "code",
   "execution_count": 7,
   "metadata": {},
   "outputs": [
    {
     "name": "stdout",
     "output_type": "stream",
     "text": [
      "support@datacamp.com\n",
      "xyz@datacamp.com\n"
     ]
    }
   ],
   "source": [
    "'''\n",
    "    findall(pattern, string, flags=0)\n",
    "Finds all the possible matches in the entire sequence and returns them as a list of strings. \n",
    "Each returned string represents one match.\n",
    "'''\n",
    "\n",
    "import re\n",
    "\n",
    "email_address = \"Please contact us at: support@datacamp.com, xyz@datacamp.com\"\n",
    "\n",
    "#'addresses' is a list that stores all the possible match\n",
    "addresses = re.findall(r'[\\w\\.-]+@[\\w\\.-]+', email_address)\n",
    "for address in addresses: # printing the list of strings\n",
    "    print(address)"
   ]
  },
  {
   "cell_type": "code",
   "execution_count": 8,
   "metadata": {},
   "outputs": [
    {
     "name": "stdout",
     "output_type": "stream",
     "text": [
      "Please contact us at: support@datacamp.com\n"
     ]
    }
   ],
   "source": [
    "'''\n",
    "    sub(pattern, repl, string, count=0, flags=0)\n",
    "This is the substitute function. It returns the string obtained by replacing or substituting \n",
    "the leftmost non-overlapping occurrences of pattern in string by the replacement repl. \n",
    "If the pattern is not found then the string is returned unchanged.\n",
    "'''\n",
    "\n",
    "import re\n",
    "\n",
    "email_address = \"Please contact us at: xyz@datacamp.com\"\n",
    "new_email_address = re.sub(r'([\\w\\.-]+)@([\\w\\.-]+)', r'support@datacamp.com', email_address)\n",
    "print(new_email_address)"
   ]
  },
  {
   "cell_type": "code",
   "execution_count": 9,
   "metadata": {},
   "outputs": [
    {
     "name": "stdout",
     "output_type": "stream",
     "text": [
      "cookie\n",
      "cookie\n"
     ]
    }
   ],
   "source": [
    "'''\n",
    "    compile(pattern, flags=0)\n",
    "Compiles a regular expression pattern into a regular expression object. \n",
    "When you need to use an expression several times in a single program, \n",
    "using the compile() function to save the resulting regular expression object for reuse is more efficient. \n",
    "This is because the compiled versions of the most recent patterns passed to compile() \n",
    "and the module-level matching functions are cached.\n",
    "\n",
    "Tip : an expression's behavior can be modified by specifying a flags value. \n",
    "You can add flag as an extra argument to the various functions that you have seen in this tutorial. \n",
    "Some of the flags used are: IGNORECASE, DOTALL, MULTILINE, VERBOSE, etc.\n",
    "'''\n",
    "\n",
    "import re\n",
    "\n",
    "pattern = re.compile(r\"cookie\")\n",
    "sequence = \"Cake and cookie\"\n",
    "a = pattern.search(sequence).group()\n",
    "print(a)\n",
    "\n",
    "# This is equivalent to:\n",
    "b = re.search(pattern, sequence).group()\n",
    "print(b)"
   ]
  },
  {
   "cell_type": "code",
   "execution_count": 21,
   "metadata": {},
   "outputs": [
    {
     "name": "stdout",
     "output_type": "stream",
     "text": [
      "0\n",
      "()\n",
      "302\n",
      "()\n",
      "[u'ironical--it', u'malicious--smile', u'fur--or', u'astrachan--overcoat', u'it--the', u'Italy--was', u'malady--a', u'money--and', u'little--to', u'No--Mr', u'is--where', u'I--I', u'I--', u'--though', u'crime--we', u'or--judge', u'gaiters--still', u'--if', u'through--well', u'say--through', u'however--and', u'Epanchin--oh', u'too--at', u'was--and', u'Andreevitch--that', u'everyone--that', u'reduce--or', u'raise--to', u'listen--and', u'history--but', u'individual--one', u'yes--I', u'but--', u't--not', u'me--then', u'perhaps--', u'Yes--those', u'me--is', u'servility--if', u'Rogojin--hereditary', u'citizen--who', u'least--goodness', u'memory--but', u'latter--since', u'Rogojin--hung', u'him--I', u'anything--she', u'old--and', u'you--scarecrow', u'certainly--certainly', u'father--I', u'Barashkoff--I', u'see--and', u'everything--Lebedeff', u'about--he', u'now--I', u'Lihachof--', u'Zaleshoff--looking', u'old--fifty', u'so--and', u'this--do', u'day--not', u'that--', u'do--by', u'know--my', u'illness--I', u'well--here', u'fellow--you']\n"
     ]
    }
   ],
   "source": [
    "# case study\n",
    "\n",
    "import re\n",
    "import requests\n",
    "the_idiot_url = 'https://www.gutenberg.org/files/2638/2638-0.txt'\n",
    "\n",
    "def get_book(url):\n",
    "    # Sends a http request to get the text from project Gutenberg\n",
    "    raw = requests.get(url).text\n",
    "    \n",
    "    # Discards the metadata from the beginning of the book\n",
    "    start = re.search(r\"\\*\\*\\* START OF THIS PROJECT GUTENBERG EBOOK .* \\*\\*\\*\",raw ).end()\n",
    "    \n",
    "    # Discards the metadata from the end of the book\n",
    "    stop = re.search(r\"II\", raw).start()\n",
    "    \n",
    "    # Keeps the relevant text\n",
    "    text = raw[start:stop]\n",
    "    return text\n",
    "\n",
    "def preprocess(sentence): \n",
    "    return re.sub('[^A-Za-z0-9.]+' , ' ', sentence).lower()\n",
    "\n",
    "book = get_book(the_idiot_url)\n",
    "quote = len(re.findall(r'\\”', book)) # Find the number of times anyone was quoted (\"\") in the corpus.\n",
    "print(quote)\n",
    "\n",
    "processed_book = preprocess(book)\n",
    "# print(processed_book)\n",
    "print()\n",
    "\n",
    "num = len(re.findall(r'the', processed_book)) # Find the number of the pronoun \"the\" in the corpus.\n",
    "print(num)\n",
    "print()\n",
    "\n",
    "# Try to convert every single stand-alone instance of 'i' to 'I' in the corpus.\n",
    "processed_book_i = re.sub(r'\\si\\s', \" I \", processed_book)\n",
    "#print(processed_book_i)\n",
    "\n",
    "# What are the words connected by '--' in the corpus?\n",
    "dashconnect = re.findall(r'[a-zA-Z0-9]*--[a-zA-Z0-9]*', book)\n",
    "print(dashconnect)"
   ]
  },
  {
   "cell_type": "code",
   "execution_count": null,
   "metadata": {},
   "outputs": [],
   "source": []
  },
  {
   "cell_type": "code",
   "execution_count": null,
   "metadata": {},
   "outputs": [],
   "source": []
  },
  {
   "cell_type": "code",
   "execution_count": null,
   "metadata": {},
   "outputs": [],
   "source": []
  },
  {
   "cell_type": "code",
   "execution_count": null,
   "metadata": {},
   "outputs": [],
   "source": []
  },
  {
   "cell_type": "code",
   "execution_count": null,
   "metadata": {},
   "outputs": [],
   "source": []
  }
 ],
 "metadata": {
  "kernelspec": {
   "display_name": "Python 2",
   "language": "python",
   "name": "python2"
  },
  "language_info": {
   "codemirror_mode": {
    "name": "ipython",
    "version": 2
   },
   "file_extension": ".py",
   "mimetype": "text/x-python",
   "name": "python",
   "nbconvert_exporter": "python",
   "pygments_lexer": "ipython2",
   "version": "2.7.14"
  }
 },
 "nbformat": 4,
 "nbformat_minor": 2
}
